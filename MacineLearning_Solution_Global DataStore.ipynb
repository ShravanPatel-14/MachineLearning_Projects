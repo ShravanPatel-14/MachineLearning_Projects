{
 "cells": [
  {
   "cell_type": "code",
   "execution_count": 1,
   "id": "093006f9",
   "metadata": {},
   "outputs": [],
   "source": [
    "from matplotlib import pyplot as plt\n",
    "from matplotlib import style\n",
    "import seaborn as sns\n",
    "%matplotlib inline\n",
    "import pandas as pd\n",
    "df=pd.read_csv(\"Global Superstore.csv\")"
   ]
  },
  {
   "cell_type": "markdown",
   "id": "131a59d7",
   "metadata": {},
   "source": [
    "# Global DataStore"
   ]
  },
  {
   "cell_type": "code",
   "execution_count": 2,
   "id": "85fef2b8",
   "metadata": {},
   "outputs": [
    {
     "data": {
      "text/html": [
       "<div>\n",
       "<style scoped>\n",
       "    .dataframe tbody tr th:only-of-type {\n",
       "        vertical-align: middle;\n",
       "    }\n",
       "\n",
       "    .dataframe tbody tr th {\n",
       "        vertical-align: top;\n",
       "    }\n",
       "\n",
       "    .dataframe thead th {\n",
       "        text-align: right;\n",
       "    }\n",
       "</style>\n",
       "<table border=\"1\" class=\"dataframe\">\n",
       "  <thead>\n",
       "    <tr style=\"text-align: right;\">\n",
       "      <th></th>\n",
       "      <th>Row ID</th>\n",
       "      <th>Order ID</th>\n",
       "      <th>Order Date</th>\n",
       "      <th>Ship Date</th>\n",
       "      <th>Ship Mode</th>\n",
       "      <th>Customer ID</th>\n",
       "      <th>Customer Name</th>\n",
       "      <th>Segment</th>\n",
       "      <th>City</th>\n",
       "      <th>State</th>\n",
       "      <th>...</th>\n",
       "      <th>Product ID</th>\n",
       "      <th>Category</th>\n",
       "      <th>Sub-Category</th>\n",
       "      <th>Product Name</th>\n",
       "      <th>Sales</th>\n",
       "      <th>Quantity</th>\n",
       "      <th>Discount</th>\n",
       "      <th>Profit</th>\n",
       "      <th>Shipping Cost</th>\n",
       "      <th>Order Priority</th>\n",
       "    </tr>\n",
       "  </thead>\n",
       "  <tbody>\n",
       "    <tr>\n",
       "      <th>0</th>\n",
       "      <td>32298</td>\n",
       "      <td>CA-2012-124891</td>\n",
       "      <td>31-07-2012</td>\n",
       "      <td>31-07-2012</td>\n",
       "      <td>Same Day</td>\n",
       "      <td>RH-19495</td>\n",
       "      <td>Rick Hansen</td>\n",
       "      <td>Consumer</td>\n",
       "      <td>New York City</td>\n",
       "      <td>New York</td>\n",
       "      <td>...</td>\n",
       "      <td>TEC-AC-10003033</td>\n",
       "      <td>Technology</td>\n",
       "      <td>Accessories</td>\n",
       "      <td>Plantronics CS510 - Over-the-Head monaural Wir...</td>\n",
       "      <td>2309.650</td>\n",
       "      <td>7</td>\n",
       "      <td>0.0</td>\n",
       "      <td>762.1845</td>\n",
       "      <td>933.57</td>\n",
       "      <td>Critical</td>\n",
       "    </tr>\n",
       "    <tr>\n",
       "      <th>1</th>\n",
       "      <td>26341</td>\n",
       "      <td>IN-2013-77878</td>\n",
       "      <td>05-02-2013</td>\n",
       "      <td>07-02-2013</td>\n",
       "      <td>Second Class</td>\n",
       "      <td>JR-16210</td>\n",
       "      <td>Justin Ritter</td>\n",
       "      <td>Corporate</td>\n",
       "      <td>Wollongong</td>\n",
       "      <td>New South Wales</td>\n",
       "      <td>...</td>\n",
       "      <td>FUR-CH-10003950</td>\n",
       "      <td>Furniture</td>\n",
       "      <td>Chairs</td>\n",
       "      <td>Novimex Executive Leather Armchair, Black</td>\n",
       "      <td>3709.395</td>\n",
       "      <td>9</td>\n",
       "      <td>0.1</td>\n",
       "      <td>-288.7650</td>\n",
       "      <td>923.63</td>\n",
       "      <td>Critical</td>\n",
       "    </tr>\n",
       "    <tr>\n",
       "      <th>2</th>\n",
       "      <td>25330</td>\n",
       "      <td>IN-2013-71249</td>\n",
       "      <td>17-10-2013</td>\n",
       "      <td>18-10-2013</td>\n",
       "      <td>First Class</td>\n",
       "      <td>CR-12730</td>\n",
       "      <td>Craig Reiter</td>\n",
       "      <td>Consumer</td>\n",
       "      <td>Brisbane</td>\n",
       "      <td>Queensland</td>\n",
       "      <td>...</td>\n",
       "      <td>TEC-PH-10004664</td>\n",
       "      <td>Technology</td>\n",
       "      <td>Phones</td>\n",
       "      <td>Nokia Smart Phone, with Caller ID</td>\n",
       "      <td>5175.171</td>\n",
       "      <td>9</td>\n",
       "      <td>0.1</td>\n",
       "      <td>919.9710</td>\n",
       "      <td>915.49</td>\n",
       "      <td>Medium</td>\n",
       "    </tr>\n",
       "    <tr>\n",
       "      <th>3</th>\n",
       "      <td>13524</td>\n",
       "      <td>ES-2013-1579342</td>\n",
       "      <td>28-01-2013</td>\n",
       "      <td>30-01-2013</td>\n",
       "      <td>First Class</td>\n",
       "      <td>KM-16375</td>\n",
       "      <td>Katherine Murray</td>\n",
       "      <td>Home Office</td>\n",
       "      <td>Berlin</td>\n",
       "      <td>Berlin</td>\n",
       "      <td>...</td>\n",
       "      <td>TEC-PH-10004583</td>\n",
       "      <td>Technology</td>\n",
       "      <td>Phones</td>\n",
       "      <td>Motorola Smart Phone, Cordless</td>\n",
       "      <td>2892.510</td>\n",
       "      <td>5</td>\n",
       "      <td>0.1</td>\n",
       "      <td>-96.5400</td>\n",
       "      <td>910.16</td>\n",
       "      <td>Medium</td>\n",
       "    </tr>\n",
       "    <tr>\n",
       "      <th>4</th>\n",
       "      <td>47221</td>\n",
       "      <td>SG-2013-4320</td>\n",
       "      <td>05-11-2013</td>\n",
       "      <td>06-11-2013</td>\n",
       "      <td>Same Day</td>\n",
       "      <td>RH-9495</td>\n",
       "      <td>Rick Hansen</td>\n",
       "      <td>Consumer</td>\n",
       "      <td>Dakar</td>\n",
       "      <td>Dakar</td>\n",
       "      <td>...</td>\n",
       "      <td>TEC-SHA-10000501</td>\n",
       "      <td>Technology</td>\n",
       "      <td>Copiers</td>\n",
       "      <td>Sharp Wireless Fax, High-Speed</td>\n",
       "      <td>2832.960</td>\n",
       "      <td>8</td>\n",
       "      <td>0.0</td>\n",
       "      <td>311.5200</td>\n",
       "      <td>903.04</td>\n",
       "      <td>Critical</td>\n",
       "    </tr>\n",
       "    <tr>\n",
       "      <th>...</th>\n",
       "      <td>...</td>\n",
       "      <td>...</td>\n",
       "      <td>...</td>\n",
       "      <td>...</td>\n",
       "      <td>...</td>\n",
       "      <td>...</td>\n",
       "      <td>...</td>\n",
       "      <td>...</td>\n",
       "      <td>...</td>\n",
       "      <td>...</td>\n",
       "      <td>...</td>\n",
       "      <td>...</td>\n",
       "      <td>...</td>\n",
       "      <td>...</td>\n",
       "      <td>...</td>\n",
       "      <td>...</td>\n",
       "      <td>...</td>\n",
       "      <td>...</td>\n",
       "      <td>...</td>\n",
       "      <td>...</td>\n",
       "      <td>...</td>\n",
       "    </tr>\n",
       "    <tr>\n",
       "      <th>51285</th>\n",
       "      <td>29002</td>\n",
       "      <td>IN-2014-62366</td>\n",
       "      <td>19-06-2014</td>\n",
       "      <td>19-06-2014</td>\n",
       "      <td>Same Day</td>\n",
       "      <td>KE-16420</td>\n",
       "      <td>Katrina Edelman</td>\n",
       "      <td>Corporate</td>\n",
       "      <td>Kure</td>\n",
       "      <td>Hiroshima</td>\n",
       "      <td>...</td>\n",
       "      <td>OFF-FA-10000746</td>\n",
       "      <td>Office Supplies</td>\n",
       "      <td>Fasteners</td>\n",
       "      <td>Advantus Thumb Tacks, 12 Pack</td>\n",
       "      <td>65.100</td>\n",
       "      <td>5</td>\n",
       "      <td>0.0</td>\n",
       "      <td>4.5000</td>\n",
       "      <td>0.01</td>\n",
       "      <td>Medium</td>\n",
       "    </tr>\n",
       "    <tr>\n",
       "      <th>51286</th>\n",
       "      <td>35398</td>\n",
       "      <td>US-2014-102288</td>\n",
       "      <td>20-06-2014</td>\n",
       "      <td>24-06-2014</td>\n",
       "      <td>Standard Class</td>\n",
       "      <td>ZC-21910</td>\n",
       "      <td>Zuschuss Carroll</td>\n",
       "      <td>Consumer</td>\n",
       "      <td>Houston</td>\n",
       "      <td>Texas</td>\n",
       "      <td>...</td>\n",
       "      <td>OFF-AP-10002906</td>\n",
       "      <td>Office Supplies</td>\n",
       "      <td>Appliances</td>\n",
       "      <td>Hoover Replacement Belt for Commercial Guardsm...</td>\n",
       "      <td>0.444</td>\n",
       "      <td>1</td>\n",
       "      <td>0.8</td>\n",
       "      <td>-1.1100</td>\n",
       "      <td>0.01</td>\n",
       "      <td>Medium</td>\n",
       "    </tr>\n",
       "    <tr>\n",
       "      <th>51287</th>\n",
       "      <td>40470</td>\n",
       "      <td>US-2013-155768</td>\n",
       "      <td>02-12-2013</td>\n",
       "      <td>02-12-2013</td>\n",
       "      <td>Same Day</td>\n",
       "      <td>LB-16795</td>\n",
       "      <td>Laurel Beltran</td>\n",
       "      <td>Home Office</td>\n",
       "      <td>Oxnard</td>\n",
       "      <td>California</td>\n",
       "      <td>...</td>\n",
       "      <td>OFF-EN-10001219</td>\n",
       "      <td>Office Supplies</td>\n",
       "      <td>Envelopes</td>\n",
       "      <td>#10- 4 1/8\" x 9 1/2\" Security-Tint Envelopes</td>\n",
       "      <td>22.920</td>\n",
       "      <td>3</td>\n",
       "      <td>0.0</td>\n",
       "      <td>11.2308</td>\n",
       "      <td>0.01</td>\n",
       "      <td>High</td>\n",
       "    </tr>\n",
       "    <tr>\n",
       "      <th>51288</th>\n",
       "      <td>9596</td>\n",
       "      <td>MX-2012-140767</td>\n",
       "      <td>18-02-2012</td>\n",
       "      <td>22-02-2012</td>\n",
       "      <td>Standard Class</td>\n",
       "      <td>RB-19795</td>\n",
       "      <td>Ross Baird</td>\n",
       "      <td>Home Office</td>\n",
       "      <td>Valinhos</td>\n",
       "      <td>São Paulo</td>\n",
       "      <td>...</td>\n",
       "      <td>OFF-BI-10000806</td>\n",
       "      <td>Office Supplies</td>\n",
       "      <td>Binders</td>\n",
       "      <td>Acco Index Tab, Economy</td>\n",
       "      <td>13.440</td>\n",
       "      <td>2</td>\n",
       "      <td>0.0</td>\n",
       "      <td>2.4000</td>\n",
       "      <td>0.00</td>\n",
       "      <td>Medium</td>\n",
       "    </tr>\n",
       "    <tr>\n",
       "      <th>51289</th>\n",
       "      <td>6147</td>\n",
       "      <td>MX-2012-134460</td>\n",
       "      <td>22-05-2012</td>\n",
       "      <td>26-05-2012</td>\n",
       "      <td>Second Class</td>\n",
       "      <td>MC-18100</td>\n",
       "      <td>Mick Crebagga</td>\n",
       "      <td>Consumer</td>\n",
       "      <td>Tipitapa</td>\n",
       "      <td>Managua</td>\n",
       "      <td>...</td>\n",
       "      <td>OFF-PA-10004155</td>\n",
       "      <td>Office Supplies</td>\n",
       "      <td>Paper</td>\n",
       "      <td>Eaton Computer Printout Paper, 8.5 x 11</td>\n",
       "      <td>61.380</td>\n",
       "      <td>3</td>\n",
       "      <td>0.0</td>\n",
       "      <td>1.8000</td>\n",
       "      <td>0.00</td>\n",
       "      <td>High</td>\n",
       "    </tr>\n",
       "  </tbody>\n",
       "</table>\n",
       "<p>51290 rows × 24 columns</p>\n",
       "</div>"
      ],
      "text/plain": [
       "       Row ID         Order ID  Order Date   Ship Date       Ship Mode  \\\n",
       "0       32298   CA-2012-124891  31-07-2012  31-07-2012        Same Day   \n",
       "1       26341    IN-2013-77878  05-02-2013  07-02-2013    Second Class   \n",
       "2       25330    IN-2013-71249  17-10-2013  18-10-2013     First Class   \n",
       "3       13524  ES-2013-1579342  28-01-2013  30-01-2013     First Class   \n",
       "4       47221     SG-2013-4320  05-11-2013  06-11-2013        Same Day   \n",
       "...       ...              ...         ...         ...             ...   \n",
       "51285   29002    IN-2014-62366  19-06-2014  19-06-2014        Same Day   \n",
       "51286   35398   US-2014-102288  20-06-2014  24-06-2014  Standard Class   \n",
       "51287   40470   US-2013-155768  02-12-2013  02-12-2013        Same Day   \n",
       "51288    9596   MX-2012-140767  18-02-2012  22-02-2012  Standard Class   \n",
       "51289    6147   MX-2012-134460  22-05-2012  26-05-2012    Second Class   \n",
       "\n",
       "      Customer ID     Customer Name      Segment           City  \\\n",
       "0        RH-19495       Rick Hansen     Consumer  New York City   \n",
       "1        JR-16210     Justin Ritter    Corporate     Wollongong   \n",
       "2        CR-12730      Craig Reiter     Consumer       Brisbane   \n",
       "3        KM-16375  Katherine Murray  Home Office         Berlin   \n",
       "4         RH-9495       Rick Hansen     Consumer          Dakar   \n",
       "...           ...               ...          ...            ...   \n",
       "51285    KE-16420   Katrina Edelman    Corporate           Kure   \n",
       "51286    ZC-21910  Zuschuss Carroll     Consumer        Houston   \n",
       "51287    LB-16795    Laurel Beltran  Home Office         Oxnard   \n",
       "51288    RB-19795        Ross Baird  Home Office       Valinhos   \n",
       "51289    MC-18100     Mick Crebagga     Consumer       Tipitapa   \n",
       "\n",
       "                 State  ...        Product ID         Category Sub-Category  \\\n",
       "0             New York  ...   TEC-AC-10003033       Technology  Accessories   \n",
       "1      New South Wales  ...   FUR-CH-10003950        Furniture       Chairs   \n",
       "2           Queensland  ...   TEC-PH-10004664       Technology       Phones   \n",
       "3               Berlin  ...   TEC-PH-10004583       Technology       Phones   \n",
       "4                Dakar  ...  TEC-SHA-10000501       Technology      Copiers   \n",
       "...                ...  ...               ...              ...          ...   \n",
       "51285        Hiroshima  ...   OFF-FA-10000746  Office Supplies    Fasteners   \n",
       "51286            Texas  ...   OFF-AP-10002906  Office Supplies   Appliances   \n",
       "51287       California  ...   OFF-EN-10001219  Office Supplies    Envelopes   \n",
       "51288        São Paulo  ...   OFF-BI-10000806  Office Supplies      Binders   \n",
       "51289          Managua  ...   OFF-PA-10004155  Office Supplies        Paper   \n",
       "\n",
       "                                            Product Name     Sales Quantity  \\\n",
       "0      Plantronics CS510 - Over-the-Head monaural Wir...  2309.650        7   \n",
       "1              Novimex Executive Leather Armchair, Black  3709.395        9   \n",
       "2                      Nokia Smart Phone, with Caller ID  5175.171        9   \n",
       "3                         Motorola Smart Phone, Cordless  2892.510        5   \n",
       "4                         Sharp Wireless Fax, High-Speed  2832.960        8   \n",
       "...                                                  ...       ...      ...   \n",
       "51285                      Advantus Thumb Tacks, 12 Pack    65.100        5   \n",
       "51286  Hoover Replacement Belt for Commercial Guardsm...     0.444        1   \n",
       "51287       #10- 4 1/8\" x 9 1/2\" Security-Tint Envelopes    22.920        3   \n",
       "51288                            Acco Index Tab, Economy    13.440        2   \n",
       "51289            Eaton Computer Printout Paper, 8.5 x 11    61.380        3   \n",
       "\n",
       "      Discount    Profit  Shipping Cost  Order Priority  \n",
       "0          0.0  762.1845         933.57        Critical  \n",
       "1          0.1 -288.7650         923.63        Critical  \n",
       "2          0.1  919.9710         915.49          Medium  \n",
       "3          0.1  -96.5400         910.16          Medium  \n",
       "4          0.0  311.5200         903.04        Critical  \n",
       "...        ...       ...            ...             ...  \n",
       "51285      0.0    4.5000           0.01          Medium  \n",
       "51286      0.8   -1.1100           0.01          Medium  \n",
       "51287      0.0   11.2308           0.01            High  \n",
       "51288      0.0    2.4000           0.00          Medium  \n",
       "51289      0.0    1.8000           0.00            High  \n",
       "\n",
       "[51290 rows x 24 columns]"
      ]
     },
     "execution_count": 2,
     "metadata": {},
     "output_type": "execute_result"
    }
   ],
   "source": [
    "df"
   ]
  },
  {
   "cell_type": "code",
   "execution_count": 3,
   "id": "760cd32e",
   "metadata": {},
   "outputs": [
    {
     "data": {
      "text/plain": [
       "(51290, 24)"
      ]
     },
     "execution_count": 3,
     "metadata": {},
     "output_type": "execute_result"
    }
   ],
   "source": [
    "df.shape"
   ]
  },
  {
   "cell_type": "code",
   "execution_count": 4,
   "id": "35ab326f",
   "metadata": {},
   "outputs": [
    {
     "data": {
      "text/plain": [
       "Index(['Row ID', 'Order ID', 'Order Date', 'Ship Date', 'Ship Mode',\n",
       "       'Customer ID', 'Customer Name', 'Segment', 'City', 'State', 'Country',\n",
       "       'Postal Code', 'Market', 'Region', 'Product ID', 'Category',\n",
       "       'Sub-Category', 'Product Name', 'Sales', 'Quantity', 'Discount',\n",
       "       'Profit', 'Shipping Cost', 'Order Priority'],\n",
       "      dtype='object')"
      ]
     },
     "execution_count": 4,
     "metadata": {},
     "output_type": "execute_result"
    }
   ],
   "source": [
    "df.columns"
   ]
  },
  {
   "cell_type": "markdown",
   "id": "189d1c97",
   "metadata": {},
   "source": [
    "# separation of Continuous variable column and categorical variables"
   ]
  },
  {
   "cell_type": "code",
   "execution_count": 5,
   "id": "6ba317a3",
   "metadata": {},
   "outputs": [],
   "source": [
    "import numpy as np\n",
    "df_num=df.select_dtypes(include=[np.number])\n",
    "df_cat=df.select_dtypes(include=[\"object\"])"
   ]
  },
  {
   "cell_type": "markdown",
   "id": "931170c4",
   "metadata": {},
   "source": [
    "# Continuous Variable columns"
   ]
  },
  {
   "cell_type": "code",
   "execution_count": 6,
   "id": "963c9298",
   "metadata": {},
   "outputs": [
    {
     "data": {
      "text/plain": [
       "Index(['Row ID', 'Postal Code', 'Sales', 'Quantity', 'Discount', 'Profit',\n",
       "       'Shipping Cost'],\n",
       "      dtype='object')"
      ]
     },
     "execution_count": 6,
     "metadata": {},
     "output_type": "execute_result"
    }
   ],
   "source": [
    "df_num.columns"
   ]
  },
  {
   "cell_type": "markdown",
   "id": "ca1a548f",
   "metadata": {},
   "source": [
    "# Categorical Variable Columns"
   ]
  },
  {
   "cell_type": "code",
   "execution_count": 7,
   "id": "a21e5dbd",
   "metadata": {},
   "outputs": [
    {
     "data": {
      "text/plain": [
       "Index(['Order ID', 'Order Date', 'Ship Date', 'Ship Mode', 'Customer ID',\n",
       "       'Customer Name', 'Segment', 'City', 'State', 'Country', 'Market',\n",
       "       'Region', 'Product ID', 'Category', 'Sub-Category', 'Product Name',\n",
       "       'Order Priority'],\n",
       "      dtype='object')"
      ]
     },
     "execution_count": 7,
     "metadata": {},
     "output_type": "execute_result"
    }
   ],
   "source": [
    "df_cat.columns"
   ]
  },
  {
   "cell_type": "markdown",
   "id": "cd32dd3a",
   "metadata": {},
   "source": [
    "# IMPUTATION-finding the null values"
   ]
  },
  {
   "cell_type": "code",
   "execution_count": 8,
   "id": "b6ba51fb",
   "metadata": {},
   "outputs": [
    {
     "data": {
      "text/plain": [
       "Row ID               0\n",
       "Postal Code      41296\n",
       "Sales                0\n",
       "Quantity             0\n",
       "Discount             0\n",
       "Profit               0\n",
       "Shipping Cost        0\n",
       "dtype: int64"
      ]
     },
     "execution_count": 8,
     "metadata": {},
     "output_type": "execute_result"
    }
   ],
   "source": [
    "df_num.isnull().sum()"
   ]
  },
  {
   "cell_type": "code",
   "execution_count": 9,
   "id": "895099f9",
   "metadata": {},
   "outputs": [],
   "source": [
    "df_num1=df_num[['Sales', 'Quantity', 'Discount', 'Profit','Shipping Cost']]"
   ]
  },
  {
   "cell_type": "code",
   "execution_count": 10,
   "id": "855d808f",
   "metadata": {},
   "outputs": [
    {
     "data": {
      "text/html": [
       "<div>\n",
       "<style scoped>\n",
       "    .dataframe tbody tr th:only-of-type {\n",
       "        vertical-align: middle;\n",
       "    }\n",
       "\n",
       "    .dataframe tbody tr th {\n",
       "        vertical-align: top;\n",
       "    }\n",
       "\n",
       "    .dataframe thead th {\n",
       "        text-align: right;\n",
       "    }\n",
       "</style>\n",
       "<table border=\"1\" class=\"dataframe\">\n",
       "  <thead>\n",
       "    <tr style=\"text-align: right;\">\n",
       "      <th></th>\n",
       "      <th>Sales</th>\n",
       "      <th>Quantity</th>\n",
       "      <th>Discount</th>\n",
       "      <th>Profit</th>\n",
       "      <th>Shipping Cost</th>\n",
       "    </tr>\n",
       "  </thead>\n",
       "  <tbody>\n",
       "    <tr>\n",
       "      <th>0</th>\n",
       "      <td>2309.650</td>\n",
       "      <td>7</td>\n",
       "      <td>0.0</td>\n",
       "      <td>762.1845</td>\n",
       "      <td>933.57</td>\n",
       "    </tr>\n",
       "    <tr>\n",
       "      <th>1</th>\n",
       "      <td>3709.395</td>\n",
       "      <td>9</td>\n",
       "      <td>0.1</td>\n",
       "      <td>-288.7650</td>\n",
       "      <td>923.63</td>\n",
       "    </tr>\n",
       "    <tr>\n",
       "      <th>2</th>\n",
       "      <td>5175.171</td>\n",
       "      <td>9</td>\n",
       "      <td>0.1</td>\n",
       "      <td>919.9710</td>\n",
       "      <td>915.49</td>\n",
       "    </tr>\n",
       "    <tr>\n",
       "      <th>3</th>\n",
       "      <td>2892.510</td>\n",
       "      <td>5</td>\n",
       "      <td>0.1</td>\n",
       "      <td>-96.5400</td>\n",
       "      <td>910.16</td>\n",
       "    </tr>\n",
       "    <tr>\n",
       "      <th>4</th>\n",
       "      <td>2832.960</td>\n",
       "      <td>8</td>\n",
       "      <td>0.0</td>\n",
       "      <td>311.5200</td>\n",
       "      <td>903.04</td>\n",
       "    </tr>\n",
       "    <tr>\n",
       "      <th>...</th>\n",
       "      <td>...</td>\n",
       "      <td>...</td>\n",
       "      <td>...</td>\n",
       "      <td>...</td>\n",
       "      <td>...</td>\n",
       "    </tr>\n",
       "    <tr>\n",
       "      <th>51285</th>\n",
       "      <td>65.100</td>\n",
       "      <td>5</td>\n",
       "      <td>0.0</td>\n",
       "      <td>4.5000</td>\n",
       "      <td>0.01</td>\n",
       "    </tr>\n",
       "    <tr>\n",
       "      <th>51286</th>\n",
       "      <td>0.444</td>\n",
       "      <td>1</td>\n",
       "      <td>0.8</td>\n",
       "      <td>-1.1100</td>\n",
       "      <td>0.01</td>\n",
       "    </tr>\n",
       "    <tr>\n",
       "      <th>51287</th>\n",
       "      <td>22.920</td>\n",
       "      <td>3</td>\n",
       "      <td>0.0</td>\n",
       "      <td>11.2308</td>\n",
       "      <td>0.01</td>\n",
       "    </tr>\n",
       "    <tr>\n",
       "      <th>51288</th>\n",
       "      <td>13.440</td>\n",
       "      <td>2</td>\n",
       "      <td>0.0</td>\n",
       "      <td>2.4000</td>\n",
       "      <td>0.00</td>\n",
       "    </tr>\n",
       "    <tr>\n",
       "      <th>51289</th>\n",
       "      <td>61.380</td>\n",
       "      <td>3</td>\n",
       "      <td>0.0</td>\n",
       "      <td>1.8000</td>\n",
       "      <td>0.00</td>\n",
       "    </tr>\n",
       "  </tbody>\n",
       "</table>\n",
       "<p>51290 rows × 5 columns</p>\n",
       "</div>"
      ],
      "text/plain": [
       "          Sales  Quantity  Discount    Profit  Shipping Cost\n",
       "0      2309.650         7       0.0  762.1845         933.57\n",
       "1      3709.395         9       0.1 -288.7650         923.63\n",
       "2      5175.171         9       0.1  919.9710         915.49\n",
       "3      2892.510         5       0.1  -96.5400         910.16\n",
       "4      2832.960         8       0.0  311.5200         903.04\n",
       "...         ...       ...       ...       ...            ...\n",
       "51285    65.100         5       0.0    4.5000           0.01\n",
       "51286     0.444         1       0.8   -1.1100           0.01\n",
       "51287    22.920         3       0.0   11.2308           0.01\n",
       "51288    13.440         2       0.0    2.4000           0.00\n",
       "51289    61.380         3       0.0    1.8000           0.00\n",
       "\n",
       "[51290 rows x 5 columns]"
      ]
     },
     "execution_count": 10,
     "metadata": {},
     "output_type": "execute_result"
    }
   ],
   "source": [
    "df_num1"
   ]
  },
  {
   "cell_type": "markdown",
   "id": "0edee5a7",
   "metadata": {},
   "source": [
    "# Removing the datapoints which are more than 75% and less than 25%"
   ]
  },
  {
   "cell_type": "code",
   "execution_count": 11,
   "id": "852e890b",
   "metadata": {},
   "outputs": [
    {
     "data": {
      "text/plain": [
       "count    51290.000000\n",
       "mean       246.490581\n",
       "std        487.565361\n",
       "min          0.444000\n",
       "25%         30.758625\n",
       "50%         85.053000\n",
       "75%        251.053200\n",
       "max      22638.480000\n",
       "Name: Sales, dtype: float64"
      ]
     },
     "execution_count": 11,
     "metadata": {},
     "output_type": "execute_result"
    }
   ],
   "source": [
    "df_num1[\"Sales\"].describe()"
   ]
  },
  {
   "cell_type": "code",
   "execution_count": 12,
   "id": "260080ee",
   "metadata": {},
   "outputs": [],
   "source": [
    "df_S=df_num1[(df_num1[\"Sales\"]>30.75) & (df_num1[\"Sales\"]<251.05)]"
   ]
  },
  {
   "cell_type": "markdown",
   "id": "fecedfb5",
   "metadata": {},
   "source": [
    "# Plotting Boxplot after Removal"
   ]
  },
  {
   "cell_type": "code",
   "execution_count": 13,
   "id": "f272512e",
   "metadata": {},
   "outputs": [
    {
     "data": {
      "text/plain": [
       "<Axes: ylabel='Sales'>"
      ]
     },
     "execution_count": 13,
     "metadata": {},
     "output_type": "execute_result"
    },
    {
     "data": {
      "image/png": "[encoded data removed]",
      "text/plain": [
       "<Figure size 640x480 with 1 Axes>"
      ]
     },
     "metadata": {},
     "output_type": "display_data"
    }
   ],
   "source": [
    "sns.boxplot(y=df_S[\"Sales\"])"
   ]
  },
  {
   "cell_type": "markdown",
   "id": "4e3d385e",
   "metadata": {},
   "source": [
    "# Removing the datapoints which are more than 75% and less than 25%"
   ]
  },
  {
   "cell_type": "code",
   "execution_count": 14,
   "id": "09054c92",
   "metadata": {},
   "outputs": [
    {
     "data": {
      "text/plain": [
       "count    25645.000000\n",
       "mean         8.091763\n",
       "std         47.397554\n",
       "min      -1144.116000\n",
       "25%          0.990000\n",
       "50%         12.960000\n",
       "75%         28.080000\n",
       "max        125.280000\n",
       "Name: Profit, dtype: float64"
      ]
     },
     "execution_count": 14,
     "metadata": {},
     "output_type": "execute_result"
    }
   ],
   "source": [
    "df_S[\"Profit\"].describe()"
   ]
  },
  {
   "cell_type": "code",
   "execution_count": 15,
   "id": "3846d5d6",
   "metadata": {},
   "outputs": [],
   "source": [
    "df_P=df_S[(df_S[\"Profit\"]>0.99)&(df_S[\"Profit\"]<28.08)]"
   ]
  },
  {
   "cell_type": "markdown",
   "id": "3fa2b7ba",
   "metadata": {},
   "source": [
    "# Plotting Boxplot after Removal"
   ]
  },
  {
   "cell_type": "code",
   "execution_count": 16,
   "id": "a7e7a8ea",
   "metadata": {},
   "outputs": [
    {
     "data": {
      "text/plain": [
       "<Axes: ylabel='Profit'>"
      ]
     },
     "execution_count": 16,
     "metadata": {},
     "output_type": "execute_result"
    },
    {
     "data": {
      "image/png": "[encoded data removed]",
      "text/plain": [
       "<Figure size 640x480 with 1 Axes>"
      ]
     },
     "metadata": {},
     "output_type": "display_data"
    }
   ],
   "source": [
    "sns.boxplot(y=df_P[\"Profit\"])"
   ]
  },
  {
   "cell_type": "markdown",
   "id": "7310d21e",
   "metadata": {},
   "source": [
    "# Removing the datapoints which are more than 75% and less than 25%"
   ]
  },
  {
   "cell_type": "code",
   "execution_count": 17,
   "id": "e5e7418c",
   "metadata": {},
   "outputs": [
    {
     "data": {
      "text/plain": [
       "count    12813.000000\n",
       "mean         8.706332\n",
       "std          8.357948\n",
       "min          0.000000\n",
       "25%          3.590000\n",
       "50%          6.140000\n",
       "75%         10.790000\n",
       "max         99.980000\n",
       "Name: Shipping Cost, dtype: float64"
      ]
     },
     "execution_count": 17,
     "metadata": {},
     "output_type": "execute_result"
    }
   ],
   "source": [
    "df_P[\"Shipping Cost\"].describe()"
   ]
  },
  {
   "cell_type": "code",
   "execution_count": 18,
   "id": "be7b0191",
   "metadata": {},
   "outputs": [],
   "source": [
    "df_SC=df_P[(df_P[\"Shipping Cost\"]>3.59)&(df_P[\"Shipping Cost\"]<10.79)]"
   ]
  },
  {
   "cell_type": "markdown",
   "id": "6ced4396",
   "metadata": {},
   "source": [
    "# Plotting Boxplot after Removal"
   ]
  },
  {
   "cell_type": "code",
   "execution_count": 19,
   "id": "512aef20",
   "metadata": {},
   "outputs": [
    {
     "data": {
      "text/plain": [
       "<Axes: ylabel='Shipping Cost'>"
      ]
     },
     "execution_count": 19,
     "metadata": {},
     "output_type": "execute_result"
    },
    {
     "data": {
      "image/png": "[encoded data removed]",
      "text/plain": [
       "<Figure size 640x480 with 1 Axes>"
      ]
     },
     "metadata": {},
     "output_type": "display_data"
    }
   ],
   "source": [
    "sns.boxplot(y=df_SC[\"Shipping Cost\"])"
   ]
  },
  {
   "cell_type": "markdown",
   "id": "8e01476d",
   "metadata": {},
   "source": [
    "# Standard Scaler"
   ]
  },
  {
   "cell_type": "code",
   "execution_count": 20,
   "id": "3da7b6b1",
   "metadata": {},
   "outputs": [],
   "source": [
    "from sklearn.preprocessing import StandardScaler"
   ]
  },
  {
   "cell_type": "code",
   "execution_count": 21,
   "id": "dd798cb7",
   "metadata": {},
   "outputs": [],
   "source": [
    "sc=StandardScaler()"
   ]
  },
  {
   "cell_type": "code",
   "execution_count": 22,
   "id": "6dd863a9",
   "metadata": {},
   "outputs": [],
   "source": [
    "sco=sc.fit(df_SC)"
   ]
  },
  {
   "cell_type": "code",
   "execution_count": 23,
   "id": "c7c6c594",
   "metadata": {},
   "outputs": [],
   "source": [
    "df_num_standard_scaler=sco.fit_transform(df_SC)"
   ]
  },
  {
   "cell_type": "code",
   "execution_count": 24,
   "id": "a42d6715",
   "metadata": {},
   "outputs": [
    {
     "data": {
      "text/plain": [
       "<Axes: >"
      ]
     },
     "execution_count": 24,
     "metadata": {},
     "output_type": "execute_result"
    },
    {
     "data": {
      "image/png": "[encoded data removed]",
      "text/plain": [
       "<Figure size 640x480 with 1 Axes>"
      ]
     },
     "metadata": {},
     "output_type": "display_data"
    }
   ],
   "source": [
    "sns.boxplot(df_num_standard_scaler)"
   ]
  },
  {
   "cell_type": "markdown",
   "id": "bf787bfb",
   "metadata": {},
   "source": [
    "# MinMax Scaler"
   ]
  },
  {
   "cell_type": "code",
   "execution_count": 25,
   "id": "9f0937e8",
   "metadata": {},
   "outputs": [],
   "source": [
    "from sklearn.preprocessing import MinMaxScaler"
   ]
  },
  {
   "cell_type": "code",
   "execution_count": 26,
   "id": "f2c3ae68",
   "metadata": {},
   "outputs": [],
   "source": [
    "mms=MinMaxScaler()"
   ]
  },
  {
   "cell_type": "code",
   "execution_count": 27,
   "id": "c132630d",
   "metadata": {},
   "outputs": [],
   "source": [
    "mmso=mms.fit(df_SC)"
   ]
  },
  {
   "cell_type": "code",
   "execution_count": 28,
   "id": "b053d2db",
   "metadata": {},
   "outputs": [],
   "source": [
    "df_num_minmax_scaler=mmso.fit_transform(df_SC)"
   ]
  },
  {
   "cell_type": "code",
   "execution_count": 29,
   "id": "1e9c9f95",
   "metadata": {},
   "outputs": [
    {
     "data": {
      "text/plain": [
       "<Axes: >"
      ]
     },
     "execution_count": 29,
     "metadata": {},
     "output_type": "execute_result"
    },
    {
     "data": {
      "image/png": "[encoded data removed]",
      "text/plain": [
       "<Figure size 640x480 with 1 Axes>"
      ]
     },
     "metadata": {},
     "output_type": "display_data"
    }
   ],
   "source": [
    "sns.boxplot(df_num_minmax_scaler)"
   ]
  },
  {
   "cell_type": "markdown",
   "id": "0ed51eca",
   "metadata": {},
   "source": [
    "# Categorical Variable Columns"
   ]
  },
  {
   "cell_type": "code",
   "execution_count": 30,
   "id": "dd72ae8d",
   "metadata": {},
   "outputs": [
    {
     "data": {
      "text/plain": [
       "Index(['Order ID', 'Order Date', 'Ship Date', 'Ship Mode', 'Customer ID',\n",
       "       'Customer Name', 'Segment', 'City', 'State', 'Country', 'Market',\n",
       "       'Region', 'Product ID', 'Category', 'Sub-Category', 'Product Name',\n",
       "       'Order Priority'],\n",
       "      dtype='object')"
      ]
     },
     "execution_count": 30,
     "metadata": {},
     "output_type": "execute_result"
    }
   ],
   "source": [
    "df_cat.columns"
   ]
  },
  {
   "cell_type": "markdown",
   "id": "f2ada0e7",
   "metadata": {},
   "source": [
    "# Finding Null values in Categorical variables"
   ]
  },
  {
   "cell_type": "code",
   "execution_count": 31,
   "id": "b96eb1c2",
   "metadata": {},
   "outputs": [
    {
     "data": {
      "text/plain": [
       "Order ID          0\n",
       "Order Date        0\n",
       "Ship Date         0\n",
       "Ship Mode         0\n",
       "Customer ID       0\n",
       "Customer Name     0\n",
       "Segment           0\n",
       "City              0\n",
       "State             0\n",
       "Country           0\n",
       "Market            0\n",
       "Region            0\n",
       "Product ID        0\n",
       "Category          0\n",
       "Sub-Category      0\n",
       "Product Name      0\n",
       "Order Priority    0\n",
       "dtype: int64"
      ]
     },
     "execution_count": 31,
     "metadata": {},
     "output_type": "execute_result"
    }
   ],
   "source": [
    "df_cat.isnull().sum()"
   ]
  },
  {
   "cell_type": "markdown",
   "id": "2bc2acc1",
   "metadata": {},
   "source": [
    "# Checking Unique Values"
   ]
  },
  {
   "cell_type": "code",
   "execution_count": 32,
   "id": "976ffc3d",
   "metadata": {},
   "outputs": [
    {
     "data": {
      "text/plain": [
       "Order ID          25035\n",
       "Ship Mode             4\n",
       "Customer ID        1590\n",
       "Customer Name       795\n",
       "Segment               3\n",
       "City               3636\n",
       "State              1094\n",
       "Country             147\n",
       "Market                7\n",
       "Region               13\n",
       "Product ID        10292\n",
       "Category              3\n",
       "Sub-Category         17\n",
       "Product Name       3788\n",
       "Order Priority        4\n",
       "dtype: int64"
      ]
     },
     "execution_count": 32,
     "metadata": {},
     "output_type": "execute_result"
    }
   ],
   "source": [
    "df_cat[['Order ID', 'Ship Mode', 'Customer ID', 'Customer Name', 'Segment',\n",
    "       'City', 'State', 'Country', 'Market', 'Region', 'Product ID',\n",
    "       'Category', 'Sub-Category', 'Product Name', 'Order Priority']].nunique()"
   ]
  },
  {
   "cell_type": "markdown",
   "id": "49f9cff1",
   "metadata": {},
   "source": [
    "# Label Encoding"
   ]
  },
  {
   "cell_type": "code",
   "execution_count": 33,
   "id": "d64e3598",
   "metadata": {},
   "outputs": [],
   "source": [
    "from sklearn.preprocessing import LabelEncoder"
   ]
  },
  {
   "cell_type": "code",
   "execution_count": 34,
   "id": "a459bce0",
   "metadata": {},
   "outputs": [],
   "source": [
    "le=LabelEncoder()"
   ]
  },
  {
   "cell_type": "code",
   "execution_count": 35,
   "id": "7ffc8b4e",
   "metadata": {},
   "outputs": [],
   "source": [
    "df_cat=df_cat.apply(le.fit_transform)"
   ]
  },
  {
   "cell_type": "code",
   "execution_count": 36,
   "id": "489ccf69",
   "metadata": {},
   "outputs": [
    {
     "data": {
      "text/html": [
       "<div>\n",
       "<style scoped>\n",
       "    .dataframe tbody tr th:only-of-type {\n",
       "        vertical-align: middle;\n",
       "    }\n",
       "\n",
       "    .dataframe tbody tr th {\n",
       "        vertical-align: top;\n",
       "    }\n",
       "\n",
       "    .dataframe thead th {\n",
       "        text-align: right;\n",
       "    }\n",
       "</style>\n",
       "<table border=\"1\" class=\"dataframe\">\n",
       "  <thead>\n",
       "    <tr style=\"text-align: right;\">\n",
       "      <th></th>\n",
       "      <th>Order ID</th>\n",
       "      <th>Order Date</th>\n",
       "      <th>Ship Date</th>\n",
       "      <th>Ship Mode</th>\n",
       "      <th>Customer ID</th>\n",
       "      <th>Customer Name</th>\n",
       "      <th>Segment</th>\n",
       "      <th>City</th>\n",
       "      <th>State</th>\n",
       "      <th>Country</th>\n",
       "      <th>Market</th>\n",
       "      <th>Region</th>\n",
       "      <th>Product ID</th>\n",
       "      <th>Category</th>\n",
       "      <th>Sub-Category</th>\n",
       "      <th>Product Name</th>\n",
       "      <th>Order Priority</th>\n",
       "    </tr>\n",
       "  </thead>\n",
       "  <tbody>\n",
       "    <tr>\n",
       "      <th>0</th>\n",
       "      <td>1499</td>\n",
       "      <td>1415</td>\n",
       "      <td>1449</td>\n",
       "      <td>1</td>\n",
       "      <td>1286</td>\n",
       "      <td>632</td>\n",
       "      <td>0</td>\n",
       "      <td>2290</td>\n",
       "      <td>703</td>\n",
       "      <td>139</td>\n",
       "      <td>6</td>\n",
       "      <td>6</td>\n",
       "      <td>8246</td>\n",
       "      <td>2</td>\n",
       "      <td>0</td>\n",
       "      <td>2750</td>\n",
       "      <td>0</td>\n",
       "    </tr>\n",
       "    <tr>\n",
       "      <th>1</th>\n",
       "      <td>13063</td>\n",
       "      <td>191</td>\n",
       "      <td>298</td>\n",
       "      <td>2</td>\n",
       "      <td>808</td>\n",
       "      <td>413</td>\n",
       "      <td>1</td>\n",
       "      <td>3518</td>\n",
       "      <td>702</td>\n",
       "      <td>6</td>\n",
       "      <td>0</td>\n",
       "      <td>9</td>\n",
       "      <td>907</td>\n",
       "      <td>0</td>\n",
       "      <td>5</td>\n",
       "      <td>2525</td>\n",
       "      <td>0</td>\n",
       "    </tr>\n",
       "    <tr>\n",
       "      <th>2</th>\n",
       "      <td>12983</td>\n",
       "      <td>790</td>\n",
       "      <td>857</td>\n",
       "      <td>0</td>\n",
       "      <td>336</td>\n",
       "      <td>181</td>\n",
       "      <td>0</td>\n",
       "      <td>497</td>\n",
       "      <td>820</td>\n",
       "      <td>6</td>\n",
       "      <td>0</td>\n",
       "      <td>9</td>\n",
       "      <td>10157</td>\n",
       "      <td>2</td>\n",
       "      <td>13</td>\n",
       "      <td>2502</td>\n",
       "      <td>3</td>\n",
       "    </tr>\n",
       "    <tr>\n",
       "      <th>3</th>\n",
       "      <td>6813</td>\n",
       "      <td>1270</td>\n",
       "      <td>1394</td>\n",
       "      <td>0</td>\n",
       "      <td>873</td>\n",
       "      <td>424</td>\n",
       "      <td>2</td>\n",
       "      <td>375</td>\n",
       "      <td>145</td>\n",
       "      <td>47</td>\n",
       "      <td>4</td>\n",
       "      <td>3</td>\n",
       "      <td>10146</td>\n",
       "      <td>2</td>\n",
       "      <td>13</td>\n",
       "      <td>2414</td>\n",
       "      <td>3</td>\n",
       "    </tr>\n",
       "    <tr>\n",
       "      <th>4</th>\n",
       "      <td>21702</td>\n",
       "      <td>227</td>\n",
       "      <td>285</td>\n",
       "      <td>1</td>\n",
       "      <td>1290</td>\n",
       "      <td>632</td>\n",
       "      <td>0</td>\n",
       "      <td>857</td>\n",
       "      <td>270</td>\n",
       "      <td>110</td>\n",
       "      <td>1</td>\n",
       "      <td>0</td>\n",
       "      <td>10249</td>\n",
       "      <td>2</td>\n",
       "      <td>6</td>\n",
       "      <td>3158</td>\n",
       "      <td>0</td>\n",
       "    </tr>\n",
       "  </tbody>\n",
       "</table>\n",
       "</div>"
      ],
      "text/plain": [
       "   Order ID  Order Date  Ship Date  Ship Mode  Customer ID  Customer Name  \\\n",
       "0      1499        1415       1449          1         1286            632   \n",
       "1     13063         191        298          2          808            413   \n",
       "2     12983         790        857          0          336            181   \n",
       "3      6813        1270       1394          0          873            424   \n",
       "4     21702         227        285          1         1290            632   \n",
       "\n",
       "   Segment  City  State  Country  Market  Region  Product ID  Category  \\\n",
       "0        0  2290    703      139       6       6        8246         2   \n",
       "1        1  3518    702        6       0       9         907         0   \n",
       "2        0   497    820        6       0       9       10157         2   \n",
       "3        2   375    145       47       4       3       10146         2   \n",
       "4        0   857    270      110       1       0       10249         2   \n",
       "\n",
       "   Sub-Category  Product Name  Order Priority  \n",
       "0             0          2750               0  \n",
       "1             5          2525               0  \n",
       "2            13          2502               3  \n",
       "3            13          2414               3  \n",
       "4             6          3158               0  "
      ]
     },
     "execution_count": 36,
     "metadata": {},
     "output_type": "execute_result"
    }
   ],
   "source": [
    "df_cat.head()"
   ]
  },
  {
   "cell_type": "code",
   "execution_count": 37,
   "id": "0598b71c",
   "metadata": {},
   "outputs": [
    {
     "data": {
      "text/html": [
       "<div>\n",
       "<style scoped>\n",
       "    .dataframe tbody tr th:only-of-type {\n",
       "        vertical-align: middle;\n",
       "    }\n",
       "\n",
       "    .dataframe tbody tr th {\n",
       "        vertical-align: top;\n",
       "    }\n",
       "\n",
       "    .dataframe thead th {\n",
       "        text-align: right;\n",
       "    }\n",
       "</style>\n",
       "<table border=\"1\" class=\"dataframe\">\n",
       "  <thead>\n",
       "    <tr style=\"text-align: right;\">\n",
       "      <th></th>\n",
       "      <th>Order ID</th>\n",
       "      <th>Order Date</th>\n",
       "      <th>Ship Date</th>\n",
       "      <th>Ship Mode</th>\n",
       "      <th>Customer ID</th>\n",
       "      <th>Customer Name</th>\n",
       "      <th>Segment</th>\n",
       "      <th>City</th>\n",
       "      <th>State</th>\n",
       "      <th>Country</th>\n",
       "      <th>Market</th>\n",
       "      <th>Region</th>\n",
       "      <th>Product ID</th>\n",
       "      <th>Category</th>\n",
       "      <th>Sub-Category</th>\n",
       "      <th>Product Name</th>\n",
       "      <th>Order Priority</th>\n",
       "    </tr>\n",
       "  </thead>\n",
       "  <tbody>\n",
       "    <tr>\n",
       "      <th>0</th>\n",
       "      <td>1499</td>\n",
       "      <td>1415</td>\n",
       "      <td>1449</td>\n",
       "      <td>1</td>\n",
       "      <td>1286</td>\n",
       "      <td>632</td>\n",
       "      <td>0</td>\n",
       "      <td>2290</td>\n",
       "      <td>703</td>\n",
       "      <td>139</td>\n",
       "      <td>6</td>\n",
       "      <td>6</td>\n",
       "      <td>8246</td>\n",
       "      <td>2</td>\n",
       "      <td>0</td>\n",
       "      <td>2750</td>\n",
       "      <td>0</td>\n",
       "    </tr>\n",
       "    <tr>\n",
       "      <th>1</th>\n",
       "      <td>13063</td>\n",
       "      <td>191</td>\n",
       "      <td>298</td>\n",
       "      <td>2</td>\n",
       "      <td>808</td>\n",
       "      <td>413</td>\n",
       "      <td>1</td>\n",
       "      <td>3518</td>\n",
       "      <td>702</td>\n",
       "      <td>6</td>\n",
       "      <td>0</td>\n",
       "      <td>9</td>\n",
       "      <td>907</td>\n",
       "      <td>0</td>\n",
       "      <td>5</td>\n",
       "      <td>2525</td>\n",
       "      <td>0</td>\n",
       "    </tr>\n",
       "    <tr>\n",
       "      <th>2</th>\n",
       "      <td>12983</td>\n",
       "      <td>790</td>\n",
       "      <td>857</td>\n",
       "      <td>0</td>\n",
       "      <td>336</td>\n",
       "      <td>181</td>\n",
       "      <td>0</td>\n",
       "      <td>497</td>\n",
       "      <td>820</td>\n",
       "      <td>6</td>\n",
       "      <td>0</td>\n",
       "      <td>9</td>\n",
       "      <td>10157</td>\n",
       "      <td>2</td>\n",
       "      <td>13</td>\n",
       "      <td>2502</td>\n",
       "      <td>3</td>\n",
       "    </tr>\n",
       "    <tr>\n",
       "      <th>3</th>\n",
       "      <td>6813</td>\n",
       "      <td>1270</td>\n",
       "      <td>1394</td>\n",
       "      <td>0</td>\n",
       "      <td>873</td>\n",
       "      <td>424</td>\n",
       "      <td>2</td>\n",
       "      <td>375</td>\n",
       "      <td>145</td>\n",
       "      <td>47</td>\n",
       "      <td>4</td>\n",
       "      <td>3</td>\n",
       "      <td>10146</td>\n",
       "      <td>2</td>\n",
       "      <td>13</td>\n",
       "      <td>2414</td>\n",
       "      <td>3</td>\n",
       "    </tr>\n",
       "    <tr>\n",
       "      <th>4</th>\n",
       "      <td>21702</td>\n",
       "      <td>227</td>\n",
       "      <td>285</td>\n",
       "      <td>1</td>\n",
       "      <td>1290</td>\n",
       "      <td>632</td>\n",
       "      <td>0</td>\n",
       "      <td>857</td>\n",
       "      <td>270</td>\n",
       "      <td>110</td>\n",
       "      <td>1</td>\n",
       "      <td>0</td>\n",
       "      <td>10249</td>\n",
       "      <td>2</td>\n",
       "      <td>6</td>\n",
       "      <td>3158</td>\n",
       "      <td>0</td>\n",
       "    </tr>\n",
       "  </tbody>\n",
       "</table>\n",
       "</div>"
      ],
      "text/plain": [
       "   Order ID  Order Date  Ship Date  Ship Mode  Customer ID  Customer Name  \\\n",
       "0      1499        1415       1449          1         1286            632   \n",
       "1     13063         191        298          2          808            413   \n",
       "2     12983         790        857          0          336            181   \n",
       "3      6813        1270       1394          0          873            424   \n",
       "4     21702         227        285          1         1290            632   \n",
       "\n",
       "   Segment  City  State  Country  Market  Region  Product ID  Category  \\\n",
       "0        0  2290    703      139       6       6        8246         2   \n",
       "1        1  3518    702        6       0       9         907         0   \n",
       "2        0   497    820        6       0       9       10157         2   \n",
       "3        2   375    145       47       4       3       10146         2   \n",
       "4        0   857    270      110       1       0       10249         2   \n",
       "\n",
       "   Sub-Category  Product Name  Order Priority  \n",
       "0             0          2750               0  \n",
       "1             5          2525               0  \n",
       "2            13          2502               3  \n",
       "3            13          2414               3  \n",
       "4             6          3158               0  "
      ]
     },
     "execution_count": 37,
     "metadata": {},
     "output_type": "execute_result"
    }
   ],
   "source": [
    "df_cat.head()"
   ]
  },
  {
   "cell_type": "code",
   "execution_count": 38,
   "id": "e94381bd",
   "metadata": {},
   "outputs": [
    {
     "data": {
      "text/plain": [
       "(6401, 5)"
      ]
     },
     "execution_count": 38,
     "metadata": {},
     "output_type": "execute_result"
    }
   ],
   "source": [
    "df_SC.shape"
   ]
  },
  {
   "cell_type": "code",
   "execution_count": 39,
   "id": "7580c4d1",
   "metadata": {},
   "outputs": [],
   "source": [
    "df_cat=df_cat.loc[df_SC.index.values,:]"
   ]
  },
  {
   "cell_type": "markdown",
   "id": "4a0cc5a5",
   "metadata": {},
   "source": [
    "# Concatenate Numerical Values and Categorical Values"
   ]
  },
  {
   "cell_type": "code",
   "execution_count": 40,
   "id": "290f7b55",
   "metadata": {},
   "outputs": [],
   "source": [
    "d1=pd.DataFrame(df_num_standard_scaler,columns=df_num1.columns)"
   ]
  },
  {
   "cell_type": "code",
   "execution_count": 41,
   "id": "318e0514",
   "metadata": {},
   "outputs": [],
   "source": [
    "d1.reset_index(inplace=True)"
   ]
  },
  {
   "cell_type": "code",
   "execution_count": 42,
   "id": "8dfcf243",
   "metadata": {},
   "outputs": [],
   "source": [
    "df_cat.reset_index(inplace=True)"
   ]
  },
  {
   "cell_type": "code",
   "execution_count": 43,
   "id": "e78ba57d",
   "metadata": {},
   "outputs": [],
   "source": [
    "df_final=pd.concat([d1,df_cat],axis=1)"
   ]
  },
  {
   "cell_type": "code",
   "execution_count": 44,
   "id": "38e1593c",
   "metadata": {},
   "outputs": [
    {
     "data": {
      "text/plain": [
       "(6401, 24)"
      ]
     },
     "execution_count": 44,
     "metadata": {},
     "output_type": "execute_result"
    }
   ],
   "source": [
    "df_final.shape"
   ]
  },
  {
   "cell_type": "code",
   "execution_count": 45,
   "id": "4cf98afa",
   "metadata": {},
   "outputs": [
    {
     "data": {
      "text/html": [
       "<div>\n",
       "<style scoped>\n",
       "    .dataframe tbody tr th:only-of-type {\n",
       "        vertical-align: middle;\n",
       "    }\n",
       "\n",
       "    .dataframe tbody tr th {\n",
       "        vertical-align: top;\n",
       "    }\n",
       "\n",
       "    .dataframe thead th {\n",
       "        text-align: right;\n",
       "    }\n",
       "</style>\n",
       "<table border=\"1\" class=\"dataframe\">\n",
       "  <thead>\n",
       "    <tr style=\"text-align: right;\">\n",
       "      <th></th>\n",
       "      <th>index</th>\n",
       "      <th>Sales</th>\n",
       "      <th>Quantity</th>\n",
       "      <th>Discount</th>\n",
       "      <th>Profit</th>\n",
       "      <th>Shipping Cost</th>\n",
       "      <th>index</th>\n",
       "      <th>Order ID</th>\n",
       "      <th>Order Date</th>\n",
       "      <th>Ship Date</th>\n",
       "      <th>...</th>\n",
       "      <th>City</th>\n",
       "      <th>State</th>\n",
       "      <th>Country</th>\n",
       "      <th>Market</th>\n",
       "      <th>Region</th>\n",
       "      <th>Product ID</th>\n",
       "      <th>Category</th>\n",
       "      <th>Sub-Category</th>\n",
       "      <th>Product Name</th>\n",
       "      <th>Order Priority</th>\n",
       "    </tr>\n",
       "  </thead>\n",
       "  <tbody>\n",
       "    <tr>\n",
       "      <th>0</th>\n",
       "      <td>0</td>\n",
       "      <td>1.990245</td>\n",
       "      <td>-0.135431</td>\n",
       "      <td>-0.471933</td>\n",
       "      <td>1.017466</td>\n",
       "      <td>2.216063</td>\n",
       "      <td>21753</td>\n",
       "      <td>5730</td>\n",
       "      <td>139</td>\n",
       "      <td>340</td>\n",
       "      <td>...</td>\n",
       "      <td>3342</td>\n",
       "      <td>833</td>\n",
       "      <td>44</td>\n",
       "      <td>4</td>\n",
       "      <td>3</td>\n",
       "      <td>2985</td>\n",
       "      <td>1</td>\n",
       "      <td>2</td>\n",
       "      <td>653</td>\n",
       "      <td>3</td>\n",
       "    </tr>\n",
       "    <tr>\n",
       "      <th>1</th>\n",
       "      <td>1</td>\n",
       "      <td>4.110542</td>\n",
       "      <td>1.829195</td>\n",
       "      <td>1.714724</td>\n",
       "      <td>1.436356</td>\n",
       "      <td>2.216063</td>\n",
       "      <td>21756</td>\n",
       "      <td>4406</td>\n",
       "      <td>1263</td>\n",
       "      <td>47</td>\n",
       "      <td>...</td>\n",
       "      <td>772</td>\n",
       "      <td>742</td>\n",
       "      <td>139</td>\n",
       "      <td>6</td>\n",
       "      <td>6</td>\n",
       "      <td>2765</td>\n",
       "      <td>1</td>\n",
       "      <td>1</td>\n",
       "      <td>1445</td>\n",
       "      <td>3</td>\n",
       "    </tr>\n",
       "    <tr>\n",
       "      <th>2</th>\n",
       "      <td>2</td>\n",
       "      <td>-0.249237</td>\n",
       "      <td>0.355726</td>\n",
       "      <td>-0.471933</td>\n",
       "      <td>-0.215759</td>\n",
       "      <td>2.216063</td>\n",
       "      <td>21760</td>\n",
       "      <td>21660</td>\n",
       "      <td>938</td>\n",
       "      <td>1058</td>\n",
       "      <td>...</td>\n",
       "      <td>2597</td>\n",
       "      <td>348</td>\n",
       "      <td>116</td>\n",
       "      <td>1</td>\n",
       "      <td>0</td>\n",
       "      <td>4730</td>\n",
       "      <td>1</td>\n",
       "      <td>12</td>\n",
       "      <td>1315</td>\n",
       "      <td>1</td>\n",
       "    </tr>\n",
       "    <tr>\n",
       "      <th>3</th>\n",
       "      <td>3</td>\n",
       "      <td>2.440222</td>\n",
       "      <td>-0.135431</td>\n",
       "      <td>-0.471933</td>\n",
       "      <td>-1.185300</td>\n",
       "      <td>2.210957</td>\n",
       "      <td>21763</td>\n",
       "      <td>6108</td>\n",
       "      <td>913</td>\n",
       "      <td>1128</td>\n",
       "      <td>...</td>\n",
       "      <td>815</td>\n",
       "      <td>311</td>\n",
       "      <td>138</td>\n",
       "      <td>4</td>\n",
       "      <td>7</td>\n",
       "      <td>3069</td>\n",
       "      <td>1</td>\n",
       "      <td>2</td>\n",
       "      <td>709</td>\n",
       "      <td>3</td>\n",
       "    </tr>\n",
       "    <tr>\n",
       "      <th>4</th>\n",
       "      <td>4</td>\n",
       "      <td>3.924887</td>\n",
       "      <td>1.338039</td>\n",
       "      <td>3.901381</td>\n",
       "      <td>0.516063</td>\n",
       "      <td>2.210957</td>\n",
       "      <td>21765</td>\n",
       "      <td>9367</td>\n",
       "      <td>54</td>\n",
       "      <td>349</td>\n",
       "      <td>...</td>\n",
       "      <td>582</td>\n",
       "      <td>97</td>\n",
       "      <td>6</td>\n",
       "      <td>0</td>\n",
       "      <td>9</td>\n",
       "      <td>6902</td>\n",
       "      <td>1</td>\n",
       "      <td>14</td>\n",
       "      <td>1448</td>\n",
       "      <td>3</td>\n",
       "    </tr>\n",
       "  </tbody>\n",
       "</table>\n",
       "<p>5 rows × 24 columns</p>\n",
       "</div>"
      ],
      "text/plain": [
       "   index     Sales  Quantity  Discount    Profit  Shipping Cost  index  \\\n",
       "0      0  1.990245 -0.135431 -0.471933  1.017466       2.216063  21753   \n",
       "1      1  4.110542  1.829195  1.714724  1.436356       2.216063  21756   \n",
       "2      2 -0.249237  0.355726 -0.471933 -0.215759       2.216063  21760   \n",
       "3      3  2.440222 -0.135431 -0.471933 -1.185300       2.210957  21763   \n",
       "4      4  3.924887  1.338039  3.901381  0.516063       2.210957  21765   \n",
       "\n",
       "   Order ID  Order Date  Ship Date  ...  City  State  Country  Market  Region  \\\n",
       "0      5730         139        340  ...  3342    833       44       4       3   \n",
       "1      4406        1263         47  ...   772    742      139       6       6   \n",
       "2     21660         938       1058  ...  2597    348      116       1       0   \n",
       "3      6108         913       1128  ...   815    311      138       4       7   \n",
       "4      9367          54        349  ...   582     97        6       0       9   \n",
       "\n",
       "   Product ID  Category  Sub-Category  Product Name  Order Priority  \n",
       "0        2985         1             2           653               3  \n",
       "1        2765         1             1          1445               3  \n",
       "2        4730         1            12          1315               1  \n",
       "3        3069         1             2           709               3  \n",
       "4        6902         1            14          1448               3  \n",
       "\n",
       "[5 rows x 24 columns]"
      ]
     },
     "execution_count": 45,
     "metadata": {},
     "output_type": "execute_result"
    }
   ],
   "source": [
    "df_final.head()"
   ]
  },
  {
   "cell_type": "markdown",
   "id": "c32515f9",
   "metadata": {},
   "source": [
    "# Final Dataset"
   ]
  },
  {
   "cell_type": "code",
   "execution_count": 46,
   "id": "4f096a21",
   "metadata": {},
   "outputs": [
    {
     "data": {
      "text/html": [
       "<div>\n",
       "<style scoped>\n",
       "    .dataframe tbody tr th:only-of-type {\n",
       "        vertical-align: middle;\n",
       "    }\n",
       "\n",
       "    .dataframe tbody tr th {\n",
       "        vertical-align: top;\n",
       "    }\n",
       "\n",
       "    .dataframe thead th {\n",
       "        text-align: right;\n",
       "    }\n",
       "</style>\n",
       "<table border=\"1\" class=\"dataframe\">\n",
       "  <thead>\n",
       "    <tr style=\"text-align: right;\">\n",
       "      <th></th>\n",
       "      <th>index</th>\n",
       "      <th>Sales</th>\n",
       "      <th>Quantity</th>\n",
       "      <th>Discount</th>\n",
       "      <th>Profit</th>\n",
       "      <th>Shipping Cost</th>\n",
       "      <th>index</th>\n",
       "      <th>Order ID</th>\n",
       "      <th>Order Date</th>\n",
       "      <th>Ship Date</th>\n",
       "      <th>...</th>\n",
       "      <th>City</th>\n",
       "      <th>State</th>\n",
       "      <th>Country</th>\n",
       "      <th>Market</th>\n",
       "      <th>Region</th>\n",
       "      <th>Product ID</th>\n",
       "      <th>Category</th>\n",
       "      <th>Sub-Category</th>\n",
       "      <th>Product Name</th>\n",
       "      <th>Order Priority</th>\n",
       "    </tr>\n",
       "  </thead>\n",
       "  <tbody>\n",
       "    <tr>\n",
       "      <th>0</th>\n",
       "      <td>0</td>\n",
       "      <td>1.990245</td>\n",
       "      <td>-0.135431</td>\n",
       "      <td>-0.471933</td>\n",
       "      <td>1.017466</td>\n",
       "      <td>2.216063</td>\n",
       "      <td>21753</td>\n",
       "      <td>5730</td>\n",
       "      <td>139</td>\n",
       "      <td>340</td>\n",
       "      <td>...</td>\n",
       "      <td>3342</td>\n",
       "      <td>833</td>\n",
       "      <td>44</td>\n",
       "      <td>4</td>\n",
       "      <td>3</td>\n",
       "      <td>2985</td>\n",
       "      <td>1</td>\n",
       "      <td>2</td>\n",
       "      <td>653</td>\n",
       "      <td>3</td>\n",
       "    </tr>\n",
       "    <tr>\n",
       "      <th>1</th>\n",
       "      <td>1</td>\n",
       "      <td>4.110542</td>\n",
       "      <td>1.829195</td>\n",
       "      <td>1.714724</td>\n",
       "      <td>1.436356</td>\n",
       "      <td>2.216063</td>\n",
       "      <td>21756</td>\n",
       "      <td>4406</td>\n",
       "      <td>1263</td>\n",
       "      <td>47</td>\n",
       "      <td>...</td>\n",
       "      <td>772</td>\n",
       "      <td>742</td>\n",
       "      <td>139</td>\n",
       "      <td>6</td>\n",
       "      <td>6</td>\n",
       "      <td>2765</td>\n",
       "      <td>1</td>\n",
       "      <td>1</td>\n",
       "      <td>1445</td>\n",
       "      <td>3</td>\n",
       "    </tr>\n",
       "    <tr>\n",
       "      <th>2</th>\n",
       "      <td>2</td>\n",
       "      <td>-0.249237</td>\n",
       "      <td>0.355726</td>\n",
       "      <td>-0.471933</td>\n",
       "      <td>-0.215759</td>\n",
       "      <td>2.216063</td>\n",
       "      <td>21760</td>\n",
       "      <td>21660</td>\n",
       "      <td>938</td>\n",
       "      <td>1058</td>\n",
       "      <td>...</td>\n",
       "      <td>2597</td>\n",
       "      <td>348</td>\n",
       "      <td>116</td>\n",
       "      <td>1</td>\n",
       "      <td>0</td>\n",
       "      <td>4730</td>\n",
       "      <td>1</td>\n",
       "      <td>12</td>\n",
       "      <td>1315</td>\n",
       "      <td>1</td>\n",
       "    </tr>\n",
       "    <tr>\n",
       "      <th>3</th>\n",
       "      <td>3</td>\n",
       "      <td>2.440222</td>\n",
       "      <td>-0.135431</td>\n",
       "      <td>-0.471933</td>\n",
       "      <td>-1.185300</td>\n",
       "      <td>2.210957</td>\n",
       "      <td>21763</td>\n",
       "      <td>6108</td>\n",
       "      <td>913</td>\n",
       "      <td>1128</td>\n",
       "      <td>...</td>\n",
       "      <td>815</td>\n",
       "      <td>311</td>\n",
       "      <td>138</td>\n",
       "      <td>4</td>\n",
       "      <td>7</td>\n",
       "      <td>3069</td>\n",
       "      <td>1</td>\n",
       "      <td>2</td>\n",
       "      <td>709</td>\n",
       "      <td>3</td>\n",
       "    </tr>\n",
       "    <tr>\n",
       "      <th>4</th>\n",
       "      <td>4</td>\n",
       "      <td>3.924887</td>\n",
       "      <td>1.338039</td>\n",
       "      <td>3.901381</td>\n",
       "      <td>0.516063</td>\n",
       "      <td>2.210957</td>\n",
       "      <td>21765</td>\n",
       "      <td>9367</td>\n",
       "      <td>54</td>\n",
       "      <td>349</td>\n",
       "      <td>...</td>\n",
       "      <td>582</td>\n",
       "      <td>97</td>\n",
       "      <td>6</td>\n",
       "      <td>0</td>\n",
       "      <td>9</td>\n",
       "      <td>6902</td>\n",
       "      <td>1</td>\n",
       "      <td>14</td>\n",
       "      <td>1448</td>\n",
       "      <td>3</td>\n",
       "    </tr>\n",
       "    <tr>\n",
       "      <th>...</th>\n",
       "      <td>...</td>\n",
       "      <td>...</td>\n",
       "      <td>...</td>\n",
       "      <td>...</td>\n",
       "      <td>...</td>\n",
       "      <td>...</td>\n",
       "      <td>...</td>\n",
       "      <td>...</td>\n",
       "      <td>...</td>\n",
       "      <td>...</td>\n",
       "      <td>...</td>\n",
       "      <td>...</td>\n",
       "      <td>...</td>\n",
       "      <td>...</td>\n",
       "      <td>...</td>\n",
       "      <td>...</td>\n",
       "      <td>...</td>\n",
       "      <td>...</td>\n",
       "      <td>...</td>\n",
       "      <td>...</td>\n",
       "      <td>...</td>\n",
       "    </tr>\n",
       "    <tr>\n",
       "      <th>6396</th>\n",
       "      <td>6396</td>\n",
       "      <td>-0.641125</td>\n",
       "      <td>-0.626587</td>\n",
       "      <td>-0.471933</td>\n",
       "      <td>0.822746</td>\n",
       "      <td>-1.450018</td>\n",
       "      <td>34962</td>\n",
       "      <td>15898</td>\n",
       "      <td>135</td>\n",
       "      <td>480</td>\n",
       "      <td>...</td>\n",
       "      <td>52</td>\n",
       "      <td>103</td>\n",
       "      <td>60</td>\n",
       "      <td>3</td>\n",
       "      <td>5</td>\n",
       "      <td>4040</td>\n",
       "      <td>1</td>\n",
       "      <td>2</td>\n",
       "      <td>642</td>\n",
       "      <td>3</td>\n",
       "    </tr>\n",
       "    <tr>\n",
       "      <th>6397</th>\n",
       "      <td>6397</td>\n",
       "      <td>-0.228429</td>\n",
       "      <td>1.338039</td>\n",
       "      <td>-0.471933</td>\n",
       "      <td>-0.272552</td>\n",
       "      <td>-1.450018</td>\n",
       "      <td>34963</td>\n",
       "      <td>16363</td>\n",
       "      <td>1402</td>\n",
       "      <td>149</td>\n",
       "      <td>...</td>\n",
       "      <td>2031</td>\n",
       "      <td>619</td>\n",
       "      <td>85</td>\n",
       "      <td>1</td>\n",
       "      <td>0</td>\n",
       "      <td>4221</td>\n",
       "      <td>1</td>\n",
       "      <td>15</td>\n",
       "      <td>1278</td>\n",
       "      <td>3</td>\n",
       "    </tr>\n",
       "    <tr>\n",
       "      <th>6398</th>\n",
       "      <td>6398</td>\n",
       "      <td>-0.372352</td>\n",
       "      <td>-0.135431</td>\n",
       "      <td>-0.471933</td>\n",
       "      <td>0.465760</td>\n",
       "      <td>-1.450018</td>\n",
       "      <td>34964</td>\n",
       "      <td>16574</td>\n",
       "      <td>1394</td>\n",
       "      <td>287</td>\n",
       "      <td>...</td>\n",
       "      <td>477</td>\n",
       "      <td>955</td>\n",
       "      <td>17</td>\n",
       "      <td>5</td>\n",
       "      <td>10</td>\n",
       "      <td>3097</td>\n",
       "      <td>1</td>\n",
       "      <td>2</td>\n",
       "      <td>3070</td>\n",
       "      <td>3</td>\n",
       "    </tr>\n",
       "    <tr>\n",
       "      <th>6399</th>\n",
       "      <td>6399</td>\n",
       "      <td>-0.209355</td>\n",
       "      <td>-0.135431</td>\n",
       "      <td>-0.471933</td>\n",
       "      <td>1.974837</td>\n",
       "      <td>-1.450018</td>\n",
       "      <td>34965</td>\n",
       "      <td>16710</td>\n",
       "      <td>509</td>\n",
       "      <td>859</td>\n",
       "      <td>...</td>\n",
       "      <td>2604</td>\n",
       "      <td>808</td>\n",
       "      <td>81</td>\n",
       "      <td>5</td>\n",
       "      <td>7</td>\n",
       "      <td>7496</td>\n",
       "      <td>1</td>\n",
       "      <td>15</td>\n",
       "      <td>143</td>\n",
       "      <td>3</td>\n",
       "    </tr>\n",
       "    <tr>\n",
       "      <th>6400</th>\n",
       "      <td>6400</td>\n",
       "      <td>-0.372352</td>\n",
       "      <td>-0.135431</td>\n",
       "      <td>-0.471933</td>\n",
       "      <td>1.877477</td>\n",
       "      <td>-1.450018</td>\n",
       "      <td>34966</td>\n",
       "      <td>18333</td>\n",
       "      <td>1043</td>\n",
       "      <td>1309</td>\n",
       "      <td>...</td>\n",
       "      <td>3435</td>\n",
       "      <td>320</td>\n",
       "      <td>17</td>\n",
       "      <td>5</td>\n",
       "      <td>10</td>\n",
       "      <td>3167</td>\n",
       "      <td>1</td>\n",
       "      <td>2</td>\n",
       "      <td>499</td>\n",
       "      <td>3</td>\n",
       "    </tr>\n",
       "  </tbody>\n",
       "</table>\n",
       "<p>6401 rows × 24 columns</p>\n",
       "</div>"
      ],
      "text/plain": [
       "      index     Sales  Quantity  Discount    Profit  Shipping Cost  index  \\\n",
       "0         0  1.990245 -0.135431 -0.471933  1.017466       2.216063  21753   \n",
       "1         1  4.110542  1.829195  1.714724  1.436356       2.216063  21756   \n",
       "2         2 -0.249237  0.355726 -0.471933 -0.215759       2.216063  21760   \n",
       "3         3  2.440222 -0.135431 -0.471933 -1.185300       2.210957  21763   \n",
       "4         4  3.924887  1.338039  3.901381  0.516063       2.210957  21765   \n",
       "...     ...       ...       ...       ...       ...            ...    ...   \n",
       "6396   6396 -0.641125 -0.626587 -0.471933  0.822746      -1.450018  34962   \n",
       "6397   6397 -0.228429  1.338039 -0.471933 -0.272552      -1.450018  34963   \n",
       "6398   6398 -0.372352 -0.135431 -0.471933  0.465760      -1.450018  34964   \n",
       "6399   6399 -0.209355 -0.135431 -0.471933  1.974837      -1.450018  34965   \n",
       "6400   6400 -0.372352 -0.135431 -0.471933  1.877477      -1.450018  34966   \n",
       "\n",
       "      Order ID  Order Date  Ship Date  ...  City  State  Country  Market  \\\n",
       "0         5730         139        340  ...  3342    833       44       4   \n",
       "1         4406        1263         47  ...   772    742      139       6   \n",
       "2        21660         938       1058  ...  2597    348      116       1   \n",
       "3         6108         913       1128  ...   815    311      138       4   \n",
       "4         9367          54        349  ...   582     97        6       0   \n",
       "...        ...         ...        ...  ...   ...    ...      ...     ...   \n",
       "6396     15898         135        480  ...    52    103       60       3   \n",
       "6397     16363        1402        149  ...  2031    619       85       1   \n",
       "6398     16574        1394        287  ...   477    955       17       5   \n",
       "6399     16710         509        859  ...  2604    808       81       5   \n",
       "6400     18333        1043       1309  ...  3435    320       17       5   \n",
       "\n",
       "      Region  Product ID  Category  Sub-Category  Product Name  Order Priority  \n",
       "0          3        2985         1             2           653               3  \n",
       "1          6        2765         1             1          1445               3  \n",
       "2          0        4730         1            12          1315               1  \n",
       "3          7        3069         1             2           709               3  \n",
       "4          9        6902         1            14          1448               3  \n",
       "...      ...         ...       ...           ...           ...             ...  \n",
       "6396       5        4040         1             2           642               3  \n",
       "6397       0        4221         1            15          1278               3  \n",
       "6398      10        3097         1             2          3070               3  \n",
       "6399       7        7496         1            15           143               3  \n",
       "6400      10        3167         1             2           499               3  \n",
       "\n",
       "[6401 rows x 24 columns]"
      ]
     },
     "execution_count": 46,
     "metadata": {},
     "output_type": "execute_result"
    }
   ],
   "source": [
    "df_final"
   ]
  },
  {
   "cell_type": "markdown",
   "id": "fe5482a4",
   "metadata": {},
   "source": [
    "# Model Training"
   ]
  },
  {
   "cell_type": "code",
   "execution_count": 47,
   "id": "abe4df01",
   "metadata": {},
   "outputs": [],
   "source": [
    "Y=df_final[\"Sales\"]"
   ]
  },
  {
   "cell_type": "code",
   "execution_count": 48,
   "id": "247ee58b",
   "metadata": {},
   "outputs": [],
   "source": [
    "X=df_final.drop([\"Sales\"],axis=1)"
   ]
  },
  {
   "cell_type": "markdown",
   "id": "6d0052a2",
   "metadata": {},
   "source": [
    "# Spliting the Data for Training(70%) and Testing(30%)"
   ]
  },
  {
   "cell_type": "code",
   "execution_count": 49,
   "id": "f004f33e",
   "metadata": {},
   "outputs": [],
   "source": [
    "from sklearn.model_selection import train_test_split\n",
    "X_train,X_test,y_train,y_test=train_test_split(X,Y,test_size=0.3,random_state=1)"
   ]
  },
  {
   "cell_type": "markdown",
   "id": "97050d02",
   "metadata": {},
   "source": [
    "# LinearRegression Training Score"
   ]
  },
  {
   "cell_type": "code",
   "execution_count": 50,
   "id": "1426cf88",
   "metadata": {},
   "outputs": [
    {
     "data": {
      "text/plain": [
       "0.3618980557178598"
      ]
     },
     "execution_count": 50,
     "metadata": {},
     "output_type": "execute_result"
    }
   ],
   "source": [
    "from sklearn.linear_model import LinearRegression\n",
    "linreg=LinearRegression()\n",
    "lm=linreg.fit(X_train,y_train)\n",
    "lm.score(X_train,y_train)"
   ]
  },
  {
   "cell_type": "markdown",
   "id": "3238cb20",
   "metadata": {},
   "source": [
    "# DecisionTreeRegressor Training Score"
   ]
  },
  {
   "cell_type": "code",
   "execution_count": 51,
   "id": "4a883bba",
   "metadata": {},
   "outputs": [
    {
     "data": {
      "text/plain": [
       "1.0"
      ]
     },
     "execution_count": 51,
     "metadata": {},
     "output_type": "execute_result"
    }
   ],
   "source": [
    "from sklearn.tree import DecisionTreeRegressor\n",
    "dtr=DecisionTreeRegressor(criterion=\"friedman_mse\")\n",
    "dt1=dtr.fit(X_train,y_train)\n",
    "dt1.score(X_train,y_train)"
   ]
  },
  {
   "cell_type": "markdown",
   "id": "8c6c488e",
   "metadata": {},
   "source": [
    "# RandomForestRegressor Training Score"
   ]
  },
  {
   "cell_type": "code",
   "execution_count": 52,
   "id": "99c89a30",
   "metadata": {},
   "outputs": [
    {
     "data": {
      "text/plain": [
       "0.7799124421974616"
      ]
     },
     "execution_count": 52,
     "metadata": {},
     "output_type": "execute_result"
    }
   ],
   "source": [
    "from sklearn.ensemble import RandomForestRegressor\n",
    "rf=RandomForestRegressor(n_estimators=500,max_depth=10)\n",
    "rf1=rf.fit(X_train,y_train)\n",
    "rf1.score(X_train,y_train)"
   ]
  },
  {
   "cell_type": "markdown",
   "id": "0b7f2330",
   "metadata": {},
   "source": [
    "# Model Validation"
   ]
  },
  {
   "cell_type": "code",
   "execution_count": 58,
   "id": "8af349d8",
   "metadata": {},
   "outputs": [],
   "source": [
    "from sklearn.metrics import accuracy_score,r2_score"
   ]
  },
  {
   "cell_type": "markdown",
   "id": "c712e5d7",
   "metadata": {},
   "source": [
    "# RandomForestRegressor Testing Score"
   ]
  },
  {
   "cell_type": "code",
   "execution_count": 59,
   "id": "79b01e20",
   "metadata": {},
   "outputs": [
    {
     "data": {
      "text/plain": [
       "0.4818425728032456"
      ]
     },
     "execution_count": 59,
     "metadata": {},
     "output_type": "execute_result"
    }
   ],
   "source": [
    "rf_y_pred=rf1.predict(X_test)\n",
    "r2_score(y_test,rf_y_pred)"
   ]
  },
  {
   "cell_type": "markdown",
   "id": "4a43f648",
   "metadata": {},
   "source": [
    "# LinearRegression Testing Score"
   ]
  },
  {
   "cell_type": "code",
   "execution_count": 60,
   "id": "9094e7e0",
   "metadata": {},
   "outputs": [
    {
     "data": {
      "text/plain": [
       "0.3920421026073463"
      ]
     },
     "execution_count": 60,
     "metadata": {},
     "output_type": "execute_result"
    }
   ],
   "source": [
    "lm_y_pred=lm.predict(X_test)\n",
    "r2_score(y_test,lm_y_pred)"
   ]
  },
  {
   "cell_type": "markdown",
   "id": "c3fe5cde",
   "metadata": {},
   "source": [
    "# DecisionTreeRegressor Testing Score"
   ]
  },
  {
   "cell_type": "code",
   "execution_count": 61,
   "id": "3b9fbc33",
   "metadata": {},
   "outputs": [
    {
     "data": {
      "text/plain": [
       "-0.11017037868549129"
      ]
     },
     "execution_count": 61,
     "metadata": {},
     "output_type": "execute_result"
    }
   ],
   "source": [
    "dt_y_pred=dt1.predict(X_test)\n",
    "r2_score(y_test,dt_y_pred)"
   ]
  },
  {
   "cell_type": "code",
   "execution_count": null,
   "id": "03e8f826",
   "metadata": {},
   "outputs": [],
   "source": []
  }
 ],
 "metadata": {
  "kernelspec": {
   "display_name": "Python 3 (ipykernel)",
   "language": "python",
   "name": "python3"
  },
  "language_info": {
   "codemirror_mode": {
    "name": "ipython",
    "version": 3
   },
   "file_extension": ".py",
   "mimetype": "text/x-python",
   "name": "python",
   "nbconvert_exporter": "python",
   "pygments_lexer": "ipython3",
   "version": "3.9.16"
  }
 },
 "nbformat": 4,
 "nbformat_minor": 5
}
